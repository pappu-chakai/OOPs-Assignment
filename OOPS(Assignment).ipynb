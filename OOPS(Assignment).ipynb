{
  "nbformat": 4,
  "nbformat_minor": 0,
  "metadata": {
    "colab": {
      "provenance": []
    },
    "kernelspec": {
      "name": "python3",
      "display_name": "Python 3"
    },
    "language_info": {
      "name": "python"
    }
  },
  "cells": [
    {
      "cell_type": "markdown",
      "source": [
        "Theorytical Questions"
      ],
      "metadata": {
        "id": "ePyzZmcID3db"
      }
    },
    {
      "cell_type": "markdown",
      "source": [
        "Q1. What is Object-Oriented Programming (OOP)?\n",
        "\n",
        "ANS:- Object-Oriented Programming (OOP) is a programming paradigm that  \n",
        "      organizes code around \"objects,\" which are self-contained units that combine data (attributes) and the operations that can be performed on that data (methods), essentially modeling real-world entities and their interactions within a program by creating classes that act as blueprints for these objects; this allows for modular, reusable code and facilitates complex software design by focusing on the objects involved rather than procedural steps to solve a problem."
      ],
      "metadata": {
        "id": "q4N-vgC2EB5T"
      }
    },
    {
      "cell_type": "markdown",
      "source": [
        "Q2. What is a class in OOP?\n",
        "\n",
        "ANS:-  Object-Oriented Programming (OOP), a \"class\" is a blueprint or template\n",
        "       that defines the attributes (data) and behaviors (methods) of a specific type of object, essentially serving as a design for creating multiple similar objects with consistent properties and functionalities; you can think of it as a blueprint for creating individual objects with the same characteristics."
      ],
      "metadata": {
        "id": "64WWF8N7FoQe"
      }
    },
    {
      "cell_type": "markdown",
      "source": [
        "Q3. What is an object in OOP?\n",
        "\n",
        "ANS:-  Object-Oriented Programming (OOP), an \"object\" is a data entity that\n",
        "       represents a real-world thing with specific characteristics (attributes) and actions (methods), essentially an instance of a class, allowing multiple objects with the same properties to exist within a program; it encapsulates data (variables) and the operations that can be performed on that data within a single unit."
      ],
      "metadata": {
        "id": "QXXmYxeGGJyM"
      }
    },
    {
      "cell_type": "markdown",
      "source": [
        "Q4. What is the difference between abstraction and encapsulation?\n",
        "\n",
        "ANS:- (Abstraction)\n",
        "      1. Abstraction is process of hiding the implementation details and  \n",
        "         showing only the functionality to the users.\n",
        "      2. In abstraction, problems are solved at the design or interface level.\n",
        "      3. The objects that help to perform abstraction are encapsulated.\n",
        "      4. Abstraction focuses on “what” the object does .\n",
        "\n",
        "      (Encapsulation)\n",
        "      1. Encapsulation is a process of binding data and methods together in a\n",
        "         single unit, providing controlled access to data.\n",
        "      2. While in encapsulation, problems are solved at the implementation\n",
        "         level.\n",
        "      3. Whereas the objects that result in encapsulation need not be\n",
        "         abstracted.\n",
        "      4. Encapsulation focuses on “How” the object does it."
      ],
      "metadata": {
        "id": "kIJs52efHAOT"
      }
    },
    {
      "cell_type": "markdown",
      "source": [
        "Q5. What are dunder methods in Python?\n",
        "\n",
        "ANS:- Dunder methods, also known as magic methods or special methods, are\n",
        "      predefined methods in Python that allow you to customize the behavior of your objects. They are recognized by the double underscore format, such as __init__ or __str__."
      ],
      "metadata": {
        "id": "1GFwwXjnI6L3"
      }
    },
    {
      "cell_type": "markdown",
      "source": [
        "Q6. Explain the concept of inheritance in OOP?\n",
        "\n",
        "ANS:- The term 'Inheritance' is derived from the word \"Inherit\" which means,  \n",
        "      \"to derive any quality, features or characteristics from family\". Therefore, \"Inheritance is defined as a mechanism where the sub or child class inherits the properties and characteristics of the super class or other derived classes. It also supports additional features of extracting properties from the child class and using it into other derived classes.\"\n",
        "\n",
        "      In computer programming, Inheritance is one of the most important concepts followed by Abstraction, Encapsulation and Polymorphism in the Object Oriented Programming (OOPS) Paradigm. This mechanism allows the new objects to take on the properties of existing objects. Inheritance builds relationships within the classes; therefore, relating two or more classes to each other and establishing class hierarchies. Rather than writing the same code, again and again, the programmers can use the code that is already created by inheriting its class."
      ],
      "metadata": {
        "id": "_LikOxKUJUey"
      }
    },
    {
      "cell_type": "markdown",
      "source": [
        "Q7.  What is polymorphism in OOP?\n",
        "\n",
        "ANS:- Polymorphism in object-oriented programming (OOP) is the ability of an\n",
        "      entity to have more than one form. It allows a single interface to be used for different types of data, and for different objects to respond differently to the same message.  "
      ],
      "metadata": {
        "id": "JFxG1z4_J-ZA"
      }
    },
    {
      "cell_type": "markdown",
      "source": [
        "Q8.  How is encapsulation achieved in Python?\n",
        "\n",
        "ANS:- encapsulation is achieved primarily through naming conventions, using\n",
        "      single and double underscores to indicate \"protected\" and \"private\" members within a class, respectively, which essentially means that while there are no strict access modifiers, developers are expected to follow these conventions to control access to data and methods within a class, thus protecting the internal state of an object."
      ],
      "metadata": {
        "id": "WAt91T5eKj3p"
      }
    },
    {
      "cell_type": "markdown",
      "source": [
        "Q9. What is a constructor in Python?\n",
        "\n",
        "ANS:- A constructor in Python is a special method that creates and initializes\n",
        "      an object of a class. It's automatically called when an object is created.\n",
        "      What does a constructor do? Assigns values to the object's members, Sets initial values to data members, Establishes core functionalities for the object, and Ensures that objects are properly configured."
      ],
      "metadata": {
        "id": "tn0DuKTcLRs2"
      }
    },
    {
      "cell_type": "markdown",
      "source": [
        "Q10. What are class and static methods in Python?\n",
        "\n",
        "ANS:- (Class Method)\n",
        "      The @classmethod decorator is a built-in function decorator that is an\n",
        "      expression that gets evaluated after your function is defined. The result of that evaluation shadows your function definition. A class method receives the class as an implicit first argument, just like an instance method receives the instance\n",
        "      (static metod)\n",
        "      A static method does not receive an implicit first argument. A static\n",
        "      method is also a method that is bound to the class and not the object of the class. This method can’t access or modify the class state. It is present in a class because it makes sense for the method to be present in class.\n"
      ],
      "metadata": {
        "id": "67QmHSaxLpcx"
      }
    },
    {
      "cell_type": "markdown",
      "source": [
        "Q11. What is method overloading in Python1?\n",
        "\n",
        "ANS:-  \"method overloading\" refers to the concept of creating multiple methods\n",
        "       with the same name but different parameter lists within a class, allowing a single function to handle various input types or scenarios by utilizing features like default arguments, variable-length arguments, or conditional logic within the function, effectively achieving the functionality of method overloading even though Python doesn't directly support it like some other languages; this enables flexibility and reduces code duplication."
      ],
      "metadata": {
        "id": "Nr-DngukMf3J"
      }
    },
    {
      "cell_type": "markdown",
      "source": [
        "Q12. What is method overriding in OOP?\n",
        "\n",
        "ANS:- Object-Oriented Programming (OOP), \"method overriding\" is a feature that\n",
        "      allows a subclass to provide its own implementation of a method that is already defined in its parent class, essentially replacing the parent class's behavior with a more specific one within the subclass, enabling polymorphism where the same method name can behave differently based on the object type at runtime; it's a core concept tied to inheritance."
      ],
      "metadata": {
        "id": "rOFusOVtMv_Q"
      }
    },
    {
      "cell_type": "markdown",
      "source": [
        "Q13. What is a property decorator in Python?\n",
        "\n",
        "ANS:- The Python property decorator makes attributes in a class act like    \n",
        "      read-only properties. Essentially, it lets you access methods as if they were attributes, without needing to write parentheses."
      ],
      "metadata": {
        "id": "Ze20LvitNAWv"
      }
    },
    {
      "cell_type": "markdown",
      "source": [
        "Q14. Why is polymorphism important in OOP?\n",
        "\n",
        "ANS:- Polymorphism is an important feature of object-oriented programming (OOP)\n",
        "      because it allows programmers to write more efficient code that is easier to maintain and extend.\n",
        "      Polymorphism is crucial in OOP because it enables flexibility and extensibility.  It allows objects of different classes to be treated as objects of a common type, responding to the same method call in their own specific ways. This promotes code reusability, reduces complexity, and makes it easier to add new object types without modifying existing code.  For instance, various shapes (circles, squares, triangles) can all have an `area()` method, but each shape's implementation of this method would differ.  Polymorphism allows you to call `area()` on any shape object, and the correct version will execute automatically, enhancing code maintainability and adaptability."
      ],
      "metadata": {
        "id": "5XRA1wNUNa7A"
      }
    },
    {
      "cell_type": "markdown",
      "source": [
        "Q15. What is an abstract class in Python?\n",
        "\n",
        "ANS:- An abstract class in Python is a class that can't be instantiated on its\n",
        "      own, but instead serves as a blueprint for other classes. Abstract classes are created using the abc (Abstract Base Classes) module."
      ],
      "metadata": {
        "id": "tN6qD-Y8OytL"
      }
    },
    {
      "cell_type": "markdown",
      "source": [
        "Q16. What are the advantages of OOP?\n",
        "\n",
        "ANS:- 1. OOP systems can be easily upgraded from small to large systems.\n",
        "      2. It is possible that multiple instances of objects co-exist without any\n",
        "        interference.\n",
        "      3. It is very easy to partition the work in a project based on objects.\n",
        "      4. It is possible to map the objects in problem domain to those in the\n",
        "         program.\n",
        "      5. The principle of data hiding helps the programmer to build secure\n",
        "        programs which cannot be invaded by the code in other parts of the program.\n",
        "      6. By using inheritance, we can eliminate redundant code and extend the\n",
        "         use of existing classes."
      ],
      "metadata": {
        "id": "Q44O_RHjPCe1"
      }
    },
    {
      "cell_type": "markdown",
      "source": [
        "Q17. What is the difference between a class variable and an instance variable?\n",
        "\n",
        "ANS:- (Instance Variable)\n",
        "      1. It is a variable whose value is instance-specific and now shared among\n",
        "         instances.\n",
        "      2. These variables cannot be shared between classes. Instead, they only\n",
        "         belong to one specific class.   \n",
        "      3. It usually reserves memory for data that the class needs.  \n",
        "      4. It is generally created when an instance of the class is created.  \n",
        "      5. It normally retains values as long as the object exists.  \n",
        "\n",
        "      (Class Variable)\n",
        "      1. It is a variable that defines a specific attribute or property for a\n",
        "         class.  \n",
        "      2. These variables can be shared between class and its subclasses.\n",
        "      3. It usually maintains a single shared value for all instances of class\n",
        "         even if no instance object of the class exists.  \n",
        "      4. It is generally created when the program begins to execute.  \n",
        "      5. It normally retains values until the program terminates."
      ],
      "metadata": {
        "id": "whbMsHcJQCHf"
      }
    },
    {
      "cell_type": "markdown",
      "source": [
        "Q18. What is multiple inheritance in Python?\n",
        "\n",
        "ANS:- If a child class is inheriting the properties of a single other class, we\n",
        "      call it single inheritance. However, if a child class inherits from more than one class, i.e. this child class is derived from multiple classes, we call it multiple inheritance in Python."
      ],
      "metadata": {
        "id": "nTH5T26YRJUQ"
      }
    },
    {
      "cell_type": "markdown",
      "source": [
        "Q19. Explain the purpose of ‘’__str__’ and ‘__repr__’ ‘ methods in Python?\n",
        "\n",
        "ANS:- Python, the __str__ method is used to provide a human-readable string\n",
        "      representation of an object, typically for display to end-users when printed, while __repr__ provides a more detailed, unambiguous representation primarily used for debugging and developer purposes, aiming to potentially recreate the object from the string output if needed; essentially, __str__ is for user-friendliness, and __repr__ is for technical clarity."
      ],
      "metadata": {
        "id": "RyAU1t76SNhP"
      }
    },
    {
      "cell_type": "markdown",
      "source": [
        "Q20. What is the significance of the ‘super()’ function in Python?\n",
        "\n",
        "ANS:- The super keyword refers to superclass (parent) objects. It is used to\n",
        "      call superclass methods, and to access the superclass constructor. The most common use of the super keyword is to eliminate the confusion between superclasses and subclasses that have methods with the same name.\n",
        "\n",
        "      While using the inheritance concept, we can refer to a parent class with the use of super() function inside the inherited or child class. The super() function we use in the child class returns a temporary created object of the superclass, that allow us to access all of its method present in the child class."
      ],
      "metadata": {
        "id": "Uw6AjlPoSqUj"
      }
    },
    {
      "cell_type": "markdown",
      "source": [
        "Q21. What is the significance of the __del__ method in Python?\n",
        "\n",
        "ANS:- __del__ is a finalizer. It is called when an object is garbage collected\n",
        "      which happens at some point after all references to the object have been deleted. In a simple case this could be right after you say del x or, if x is a local variable, after the function ends.\n",
        "\n",
        "      The __del__ method is a special method in Python that is called when an object is about to be destroyed. It allows you to define specific cleanup actions that should be taken when an object is garbage collected. This method can be particularly useful for releasing external resources such as file handles, network connections, or database connections that the object may hold."
      ],
      "metadata": {
        "id": "DpHla1G-TMhM"
      }
    },
    {
      "cell_type": "markdown",
      "source": [
        "Q22. What is the difference between @staticmethod and @classmethod in Python?\n",
        "\n",
        "ANS:- (@staticmethod )\n",
        "       1. A static method is bound to the class and not the object of the class.\n",
        "       2. It does not receive an implicit first argument (like self for  \n",
        "          instance methods or cls for class methods).\n",
        "       3. It can be called on the class itself or on an instance of the class.\n",
        "       4. It typically operates on data that is not specific to any particular\n",
        "          instance or the class itself.\n",
        "      (@classmethod)\n",
        "      1. A class method is bound to the class and not the object of the class.\n",
        "      2. It receives the class itself as an implicit first argument\n",
        "         (conventionally named cls).\n",
        "      3. It can be called on the class itself or on an instance of the class.\n",
        "      4. It often operates on class-level data or modifies the class state.  It\n",
        "         can also be used as an alternative constructor."
      ],
      "metadata": {
        "id": "Y8zcYkfpT3Dc"
      }
    },
    {
      "cell_type": "markdown",
      "source": [
        "Q23. How does polymorphism work in Python with inheritance?\n",
        "\n",
        "ANS:- Python, polymorphism, when used with inheritance, allows objects of\n",
        "      different classes (usually related through inheritance) to respond to the same method call in different ways, essentially \"acting like\" the specific class they belong to, thanks to the concept of method overriding where a child class can redefine a method inherited from its parent class, providing a customized implementation based on its needs; this means the same method name can perform different actions depending on which object is called upon, enabling flexibility and code reuse.  "
      ],
      "metadata": {
        "id": "xF9zVLvBVWfV"
      }
    },
    {
      "cell_type": "markdown",
      "source": [
        "Q24. What is method chaining in Python OOP?\n",
        "\n",
        "ANS:- Python Object-Oriented Programming (OOP), \"method chaining\" is a  \n",
        "      technique where you call multiple methods on the same object consecutively in a single line of code, with each method returning the object itself, allowing you to chain further operations on the modified object without needing to store intermediate results in separate variables; essentially, it lets you write code that reads like a natural sequence of actions on an object"
      ],
      "metadata": {
        "id": "45daQdbCVn7w"
      }
    },
    {
      "cell_type": "markdown",
      "source": [
        "Q25. What is the purpose of the __call__ method in Python?\n",
        "\n",
        "ANS:- Python, the __call__ method allows you to create class instances that can\n",
        "      be called like a function, essentially turning an object into a callable object, meaning you can use parentheses to execute its functionality directly; this is useful when you want to treat an object as if it were a regular function call.\n",
        "      The __call__ method is part of Python build-in methods also called dunder or magic methods because have two prefixes and suffix underscores in the method name. The main idea of __call__ method is to write a class and invoke it like a function. You can refer to it as callable object."
      ],
      "metadata": {
        "id": "IXOBcGpfV3YC"
      }
    },
    {
      "cell_type": "markdown",
      "source": [
        "Practical Questions"
      ],
      "metadata": {
        "id": "Cx-7QbLKXjzH"
      }
    },
    {
      "cell_type": "markdown",
      "source": [
        "Q1. . Create a parent class Animal with a method speak() that prints a generic message. Create a child class Dog\n",
        "that overrides the speak() method to print \"Bark!\".\n"
      ],
      "metadata": {
        "id": "tCB2dVWXzlZa"
      }
    },
    {
      "cell_type": "code",
      "source": [
        "class Animal:\n",
        "    def speak(self):\n",
        "        print(\"Generic animal sound\")\n",
        "\n",
        "class Dog(Animal):\n",
        "    def speak(self):\n",
        "        print(\"Bark!\")\n",
        "\n",
        "\n",
        "animal = Animal()\n",
        "animal.speak()\n",
        "\n",
        "dog = Dog()\n",
        "dog.speak()\n"
      ],
      "metadata": {
        "colab": {
          "base_uri": "https://localhost:8080/"
        },
        "id": "yo-Fi0DvzrTc",
        "outputId": "0e5bf545-6f73-4711-faf5-b4f67fa6fc22"
      },
      "execution_count": 1,
      "outputs": [
        {
          "output_type": "stream",
          "name": "stdout",
          "text": [
            "Generic animal sound\n",
            "Bark!\n"
          ]
        }
      ]
    },
    {
      "cell_type": "markdown",
      "source": [
        "Q2. Write a program to create an abstract class Shape with a method area(). Derive classes Circle and Rectangle\n",
        "from it and implement the area() method in both.\n"
      ],
      "metadata": {
        "id": "TMEb6aUU0QDB"
      }
    },
    {
      "cell_type": "code",
      "source": [
        "from abc import ABC, abstractmethod\n",
        "import math\n",
        "\n",
        "class Shape(ABC):\n",
        "    @abstractmethod\n",
        "    def area(self):\n",
        "        pass\n",
        "\n",
        "class Circle(Shape):\n",
        "    def __init__(self, radius):\n",
        "        self.radius = radius\n",
        "\n",
        "    def area(self):\n",
        "        return math.pi * self.radius**2\n",
        "\n",
        "class Rectangle(Shape):\n",
        "    def __init__(self, width, height):\n",
        "        self.width = width\n",
        "        self.height = height\n",
        "\n",
        "    def area(self):\n",
        "        return self.width * self.height\n",
        "\n",
        "# Example usage\n",
        "circle = Circle(5)\n",
        "print(\"Circle area:\", circle.area())\n",
        "\n",
        "rectangle = Rectangle(8, 4)\n",
        "print(\"Rectangle area:\", rectangle.area())"
      ],
      "metadata": {
        "id": "y8-n0RuD5sBP",
        "outputId": "1ac8ac5d-4cc5-41ac-8431-ef2a753a61af",
        "colab": {
          "base_uri": "https://localhost:8080/"
        }
      },
      "execution_count": 47,
      "outputs": [
        {
          "output_type": "stream",
          "name": "stdout",
          "text": [
            "Circle area: 78.53981633974483\n",
            "Rectangle area: 32\n"
          ]
        }
      ]
    },
    {
      "cell_type": "markdown",
      "source": [
        "Q3. Implement a multi-level inheritance scenario where a class Vehicle has an attribute type. Derive a class Car\n",
        "and further derive a class ElectricCar that adds a battery attribute.\n"
      ],
      "metadata": {
        "id": "TuzG7Mvj1pvD"
      }
    },
    {
      "cell_type": "code",
      "source": [
        "class Vehicle:\n",
        "    def __init__(self, type):\n",
        "        self.type = type\n",
        "\n",
        "class Car(Vehicle):\n",
        "    def __init__(self, type, model):\n",
        "        super().__init__(type)\n",
        "        self.model = model\n",
        "\n",
        "class ElectricCar(Car):\n",
        "    def __init__(self, type, model, battery_capacity):\n",
        "        super().__init__(type, model)\n",
        "        self.battery_capacity = battery_capacity\n",
        "\n",
        "\n",
        "electric_car = ElectricCar(\"Electric\", \"Tata Punch model xl\", \"150 kWh\")\n",
        "print(electric_car.type)\n",
        "print(electric_car.model)\n",
        "print(electric_car.battery_capacity)\n"
      ],
      "metadata": {
        "colab": {
          "base_uri": "https://localhost:8080/"
        },
        "id": "XWmKSo3D3Kuc",
        "outputId": "13ba6b34-54d3-4745-db98-ea660818f264"
      },
      "execution_count": 46,
      "outputs": [
        {
          "output_type": "stream",
          "name": "stdout",
          "text": [
            "Electric\n",
            "Tata Punch model xl\n",
            "150 kWh\n"
          ]
        }
      ]
    },
    {
      "cell_type": "markdown",
      "source": [
        "Q4.  Implement a multi-level inheritance scenario where a class Vehicle has an attribute type. Derive a class Car\n",
        "and further derive a class ElectricCar that adds a battery attribute."
      ],
      "metadata": {
        "id": "FQCqlKuE35lx"
      }
    },
    {
      "cell_type": "code",
      "source": [
        "class Vehicle:\n",
        "    def __init__(self, type):\n",
        "        self.type = type\n",
        "\n",
        "class Car(Vehicle):\n",
        "    def __init__(self, type, model):\n",
        "        super().__init__(type)\n",
        "        self.model = model\n",
        "\n",
        "class ElectricCar(Car):\n",
        "    def __init__(self, type, model, battery_capacity):\n",
        "        super().__init__(type, model)\n",
        "        self.battery_capacity = battery_capacity\n",
        "\n",
        "\n",
        "electric_car = ElectricCar(\"Electric\", \"Tata model Nexon\", \"250 kWh\")\n",
        "print(electric_car.type)\n",
        "print(electric_car.model)\n",
        "electric_car.battery_capacity\n"
      ],
      "metadata": {
        "colab": {
          "base_uri": "https://localhost:8080/",
          "height": 70
        },
        "id": "OEzH4w4y4CGF",
        "outputId": "41ecb5af-3789-44b8-efe6-0109bfcb8e4d"
      },
      "execution_count": 44,
      "outputs": [
        {
          "output_type": "stream",
          "name": "stdout",
          "text": [
            "Electric\n",
            "Tata model Nexon\n"
          ]
        },
        {
          "output_type": "execute_result",
          "data": {
            "text/plain": [
              "'250 kWh'"
            ],
            "application/vnd.google.colaboratory.intrinsic+json": {
              "type": "string"
            }
          },
          "metadata": {},
          "execution_count": 44
        }
      ]
    },
    {
      "cell_type": "markdown",
      "source": [
        "Q5.  Write a program to demonstrate encapsulation by creating a class BankAccount with private attributes\n",
        "balance and methods to deposit, withdraw, and check balance."
      ],
      "metadata": {
        "id": "wpWTPpNF4WMY"
      }
    },
    {
      "cell_type": "code",
      "source": [
        "class BankAccount:\n",
        "    def __init__(self, initial_balance=0):\n",
        "        self.__balance = initial_balance\n",
        "\n",
        "    def deposit(self, amount):\n",
        "        if amount > 0:\n",
        "            self.__balance += amount\n",
        "            print(\"Deposited:\", amount)\n",
        "        else:\n",
        "            print(\"Invalid deposit amount.\")\n",
        "\n",
        "    def withdraw(self, amount):\n",
        "        if 0 < amount <= self.__balance:\n",
        "            self.__balance -= amount\n",
        "            print(\"Withdrew:\", amount)\n",
        "        else:\n",
        "            print(\"Insufficient funds or invalid withdrawal amount.\")\n",
        "\n",
        "    def check_balance(self):\n",
        "        print(\"Current balance:\", self.__balance)\n",
        "\n",
        "\n",
        "\n",
        "account = BankAccount(2000)\n",
        "account.deposit(800)\n",
        "account.withdraw(400)\n",
        "account.check_balance()\n",
        "account.withdraw(2500)"
      ],
      "metadata": {
        "id": "2JS3-DHJ5V-s",
        "outputId": "87bae656-fb5f-4a02-c6e4-fdd66c1282a6",
        "colab": {
          "base_uri": "https://localhost:8080/"
        }
      },
      "execution_count": 41,
      "outputs": [
        {
          "output_type": "stream",
          "name": "stdout",
          "text": [
            "Deposited: 800\n",
            "Withdrew: 400\n",
            "Current balance: 2400\n",
            "Insufficient funds or invalid withdrawal amount.\n"
          ]
        }
      ]
    },
    {
      "cell_type": "markdown",
      "source": [
        "Q6. Demonstrate runtime polymorphism using a method play() in a base class Instrument. Derive classes Guitar\n",
        "and Piano that implement their own version of play().\n"
      ],
      "metadata": {
        "id": "rDzZTUF-5-PG"
      }
    },
    {
      "cell_type": "code",
      "source": [
        "from abc import ABC, abstractmethod\n",
        "\n",
        "class Instrument(ABC):\n",
        "    @abstractmethod\n",
        "    def play(self):\n",
        "        pass\n",
        "\n",
        "class Guitar(Instrument):\n",
        "    def play(self):\n",
        "        print(\"Playing the guitar\")\n",
        "\n",
        "class Piano(Instrument):\n",
        "    def play(self):\n",
        "        print(\"Playing the piano\")\n",
        "\n",
        "guitar = Guitar()\n",
        "piano = Piano()\n",
        "\n",
        "\n",
        "guitar.play()\n",
        "piano.play()"
      ],
      "metadata": {
        "id": "DemdY8Cp6KeU",
        "outputId": "84d82a6e-27ec-4ab9-a39d-ecaff9e97994",
        "colab": {
          "base_uri": "https://localhost:8080/"
        }
      },
      "execution_count": 4,
      "outputs": [
        {
          "output_type": "stream",
          "name": "stdout",
          "text": [
            "Playing the guitar\n",
            "Playing the piano\n"
          ]
        }
      ]
    },
    {
      "cell_type": "markdown",
      "source": [
        "Q7. Create a class MathOperations with a class method add_numbers() to add two numbers and a static\n",
        "method subtract_numbers() to subtract two number."
      ],
      "metadata": {
        "id": "LqyVQSlh6Wsf"
      }
    },
    {
      "cell_type": "code",
      "source": [
        "class MathOperations:\n",
        "    @classmethod\n",
        "    def add_numbers(cls, x, y):\n",
        "        return x + y\n",
        "\n",
        "    @staticmethod\n",
        "    def subtract_numbers(x, y):\n",
        "        return x - y\n",
        "\n",
        "result1 = MathOperations.add_numbers(9, 5)\n",
        "print(result1)\n",
        "\n",
        "result2 = MathOperations.subtract_numbers(6, 5)\n",
        "print(result2)\n"
      ],
      "metadata": {
        "id": "ymjXi9Al6yU1",
        "outputId": "cc0433ad-f7a6-46af-ee2e-3538d1be2f51",
        "colab": {
          "base_uri": "https://localhost:8080/"
        }
      },
      "execution_count": 40,
      "outputs": [
        {
          "output_type": "stream",
          "name": "stdout",
          "text": [
            "14\n",
            "1\n"
          ]
        }
      ]
    },
    {
      "cell_type": "markdown",
      "source": [
        "Q8.  Implement a class Person with a class method to count the total number of persons created."
      ],
      "metadata": {
        "id": "M5NEBgsi67YX"
      }
    },
    {
      "cell_type": "code",
      "source": [
        "class Person:\n",
        "    total_persons = 0\n",
        "\n",
        "    def __init__(self, name):\n",
        "        self.name = name\n",
        "        Person.total_persons += 1\n",
        "\n",
        "    @classmethod\n",
        "    def get_total_persons(cls):\n",
        "        return cls.total_persons\n",
        "\n",
        "person1 = Person(\"Rahul\")\n",
        "person2 = Person(\"Shunil\")\n",
        "person3 = Person(\"Rohit\")\n",
        "\n",
        "print(Person.get_total_persons())\n"
      ],
      "metadata": {
        "id": "z3Uew7C57Elw",
        "outputId": "6a69d5f4-45bc-4d21-a9a2-6e0df1e6b230",
        "colab": {
          "base_uri": "https://localhost:8080/"
        }
      },
      "execution_count": 39,
      "outputs": [
        {
          "output_type": "stream",
          "name": "stdout",
          "text": [
            "3\n"
          ]
        }
      ]
    },
    {
      "cell_type": "markdown",
      "source": [
        "Q.9 Write a class Fraction with attributes numerator and denominator. Override the str method to display the\n",
        "fraction as \"numerator/denominator\".\n"
      ],
      "metadata": {
        "id": "KmY6pQrV7Sk2"
      }
    },
    {
      "cell_type": "code",
      "source": [
        "class Fraction:\n",
        "    def __init__(self, numerator, denominator):\n",
        "        self.numerator = numerator\n",
        "        self.denominator = denominator\n",
        "\n",
        "    def __str__(self):\n",
        "        return f\"{self.numerator}/{self.denominator}\"\n",
        "\n",
        "\n",
        "fraction = Fraction(10, 5)\n",
        "print(fraction)"
      ],
      "metadata": {
        "id": "qe_gC5Gw7kXv",
        "outputId": "2a1aa6e9-eaca-4e9a-c6b5-af5edcf1c782",
        "colab": {
          "base_uri": "https://localhost:8080/"
        }
      },
      "execution_count": 38,
      "outputs": [
        {
          "output_type": "stream",
          "name": "stdout",
          "text": [
            "10/5\n"
          ]
        }
      ]
    },
    {
      "cell_type": "markdown",
      "source": [
        "Q10. . Demonstrate operator overloading by creating a class Vector and overriding the add method to add two\n",
        "vectors."
      ],
      "metadata": {
        "id": "fpep5lzV7oLQ"
      }
    },
    {
      "cell_type": "code",
      "source": [
        "class Vector:\n",
        "    def __init__(self, x, y):\n",
        "        self.x = x\n",
        "        self.y = y\n",
        "\n",
        "    def __add__(self, other):\n",
        "        return Vector(self.x + other.x, self.y + other.y)\n",
        "\n",
        "    def __str__(self):\n",
        "        return f\"({self.x}, {self.y})\"\n",
        "\n",
        "v1 = Vector(10, 2)\n",
        "v2 = Vector(6, 4)\n",
        "v3 = v1 + v2\n",
        "print(v3)\n"
      ],
      "metadata": {
        "id": "Bva8_TXQ782U",
        "outputId": "f50bc469-8d98-4c9a-9f97-759c5b8c261d",
        "colab": {
          "base_uri": "https://localhost:8080/"
        }
      },
      "execution_count": 37,
      "outputs": [
        {
          "output_type": "stream",
          "name": "stdout",
          "text": [
            "(16, 6)\n"
          ]
        }
      ]
    },
    {
      "cell_type": "markdown",
      "source": [
        "Q11. Create a class Person with attributes name and age. Add a method greet() that prints \"Hello, my name is\n",
        "{name} and I am {age} years old.\""
      ],
      "metadata": {
        "id": "G_2uCYTr8NY3"
      }
    },
    {
      "cell_type": "code",
      "source": [
        "class Person:\n",
        "    def __init__(self, name, age):\n",
        "        self.name = name\n",
        "        self.age = age\n",
        "\n",
        "    def greet(self):\n",
        "        print(f\"Hello, my name is {self.name} and I am {self.age} years old.\")\n",
        "\n",
        "person = Person(\"Rahul\", 30)\n",
        "person.greet()"
      ],
      "metadata": {
        "id": "RbOq3Ydh8uMd",
        "outputId": "2203b1bd-3657-4c16-b2b7-e65acb95a423",
        "colab": {
          "base_uri": "https://localhost:8080/"
        }
      },
      "execution_count": 36,
      "outputs": [
        {
          "output_type": "stream",
          "name": "stdout",
          "text": [
            "Hello, my name is Rahul and I am 30 years old.\n"
          ]
        }
      ]
    },
    {
      "cell_type": "markdown",
      "source": [
        "Q12. . Implement a class Student with attributes name and grades. Create a method average_grade() to compute\n",
        "the average of the grades."
      ],
      "metadata": {
        "id": "BeFIaGIL9S8y"
      }
    },
    {
      "cell_type": "code",
      "source": [
        "class Student:\n",
        "    def __init__(self, name, grades):\n",
        "        self.name = name\n",
        "        self.grades = grades\n",
        "\n",
        "    def average_grade(self):\n",
        "        if not self.grades:\n",
        "            return 0\n",
        "        return sum(self.grades) / len(self.grades)\n",
        "\n",
        "\n",
        "student = Student(\"Alice\", [85, 90, 78, 92])\n",
        "print(student.average_grade())\n"
      ],
      "metadata": {
        "id": "3ZKZct2W9Xsu",
        "outputId": "6908da6a-b60e-4950-91b6-f77f59c69a88",
        "colab": {
          "base_uri": "https://localhost:8080/"
        }
      },
      "execution_count": 18,
      "outputs": [
        {
          "output_type": "stream",
          "name": "stdout",
          "text": [
            "86.25\n"
          ]
        }
      ]
    },
    {
      "cell_type": "markdown",
      "source": [
        "Q13. . Create a class Rectangle with methods set_dimensions() to set the dimensions and area() to calculate the\n",
        "area."
      ],
      "metadata": {
        "id": "I7Hjt22w9l2H"
      }
    },
    {
      "cell_type": "code",
      "source": [
        "class Rectangle:\n",
        "    def __init__(self):\n",
        "        self.width = 0\n",
        "        self.height = 0\n",
        "\n",
        "    def set_dimensions(self, width, height):\n",
        "        self.width = width\n",
        "        self.height = height\n",
        "\n",
        "    def area(self):\n",
        "        return self.width * self.height\n",
        "\n",
        "rectangle = Rectangle()\n",
        "rectangle.set_dimensions(10, 5)\n",
        "print(rectangle.area())\n"
      ],
      "metadata": {
        "id": "1A3PCesg9xdd",
        "outputId": "8f996f5d-95fc-4da7-e7f0-847787c4f2b7",
        "colab": {
          "base_uri": "https://localhost:8080/"
        }
      },
      "execution_count": 35,
      "outputs": [
        {
          "output_type": "stream",
          "name": "stdout",
          "text": [
            "50\n"
          ]
        }
      ]
    },
    {
      "cell_type": "markdown",
      "source": [
        "Q14.  Create a class Employee with a method calculate_salary() that computes the salary based on hours worked\n",
        "and hourly rate. Create a derived class Manager that adds a bonus to the salary."
      ],
      "metadata": {
        "id": "E5yE4Ikr-Z0B"
      }
    },
    {
      "cell_type": "code",
      "source": [
        "class Employee:\n",
        "    def __init__(self, hours_worked, hourly_rate):\n",
        "        self.hours_worked = hours_worked\n",
        "        self.hourly_rate = hourly_rate\n",
        "\n",
        "    def calculate_salary(self):\n",
        "        return self.hours_worked * self.hourly_rate\n",
        "\n",
        "class Manager(Employee):\n",
        "    def __init__(self, hours_worked, hourly_rate, bonus):\n",
        "        super().__init__(hours_worked, hourly_rate)\n",
        "        self.bonus = bonus\n",
        "\n",
        "    def calculate_salary(self):\n",
        "        return super().calculate_salary() + self.bonus\n",
        "\n",
        "employee = Employee(60, 20)\n",
        "print(employee.calculate_salary())\n",
        "\n",
        "manager = Manager(75, 20, 9000)\n",
        "print(manager.calculate_salary())\n"
      ],
      "metadata": {
        "id": "-xRhHivA-l0a",
        "outputId": "279ad55c-bbbd-4cf5-b7dc-13c50f4c9ede",
        "colab": {
          "base_uri": "https://localhost:8080/"
        }
      },
      "execution_count": 34,
      "outputs": [
        {
          "output_type": "stream",
          "name": "stdout",
          "text": [
            "1200\n",
            "10500\n"
          ]
        }
      ]
    },
    {
      "cell_type": "markdown",
      "source": [
        "Q15. . Create a class Product with attributes name, price, and quantity. Implement a method total_price() that\n",
        "calculates the total price of the product."
      ],
      "metadata": {
        "id": "Oip9JCmX-1Ac"
      }
    },
    {
      "cell_type": "code",
      "source": [
        "class Product:\n",
        "    def __init__(self, name, price, quantity):\n",
        "        self.name = name\n",
        "        self.price = price\n",
        "        self.quantity = quantity\n",
        "\n",
        "    def total_price(self):\n",
        "        return  self.price * self.quantity\n",
        "\n",
        "product = Product(\"Laptop\", 35000.20, 5)\n",
        "print(product.total_price())\n"
      ],
      "metadata": {
        "id": "AjY5ji7W_BLO",
        "outputId": "55cc399d-1a55-4231-e6ed-e94ba653fa11",
        "colab": {
          "base_uri": "https://localhost:8080/"
        }
      },
      "execution_count": 33,
      "outputs": [
        {
          "output_type": "stream",
          "name": "stdout",
          "text": [
            "175001.0\n"
          ]
        }
      ]
    },
    {
      "cell_type": "markdown",
      "source": [
        "Q16.  Create a class Animal with an abstract method sound(). Create two derived classes Cow and Sheep that\n",
        "implement the sound() method."
      ],
      "metadata": {
        "id": "9xf14Pku_QRl"
      }
    },
    {
      "cell_type": "code",
      "source": [
        "from abc import ABC, abstractmethod\n",
        "\n",
        "class Animal(ABC):\n",
        "    @abstractmethod\n",
        "    def sound(self):\n",
        "        pass\n",
        "\n",
        "class Cow(Animal):\n",
        "    def sound(self):\n",
        "        print(\"Moo\")\n",
        "\n",
        "class Sheep(Animal):\n",
        "    def sound(self):\n",
        "        print(\"Baa\")\n",
        "\n",
        "cow = Cow()\n",
        "cow.sound()\n",
        "\n",
        "sheep = Sheep()\n",
        "sheep.sound()\n"
      ],
      "metadata": {
        "id": "4ioxe0f3_fKp",
        "outputId": "7207e196-b755-4922-ab2e-4e4ada9b3f09",
        "colab": {
          "base_uri": "https://localhost:8080/"
        }
      },
      "execution_count": 23,
      "outputs": [
        {
          "output_type": "stream",
          "name": "stdout",
          "text": [
            "Moo\n",
            "Baa\n"
          ]
        }
      ]
    },
    {
      "cell_type": "markdown",
      "source": [
        "Q17. . Create a class Book with attributes title, author, and year_published. Add a method get_book_info() that\n",
        "returns a formatted string with the book's details."
      ],
      "metadata": {
        "id": "gFdpXQgr_sSn"
      }
    },
    {
      "cell_type": "code",
      "source": [
        "class Book:\n",
        "    def __init__(self, title, author, year_published):\n",
        "        self.title = title\n",
        "        self.author = author\n",
        "        self.year_published = year_published\n",
        "\n",
        "    def get_book_info(self):\n",
        "        return f\"Title: {self.title}, Author: {self.author}, Year Published: {self.year_published}\"\n",
        "\n",
        "book = Book(\"The BHAGWAT GEETA as it is\", \"Bhaktivedanta Swami Prabhupada\", 2018)\n",
        "print(book.get_book_info())"
      ],
      "metadata": {
        "id": "vmwEMq2C_0wR",
        "outputId": "8a799a9c-4449-4f13-e02a-1350b4f9f997",
        "colab": {
          "base_uri": "https://localhost:8080/"
        }
      },
      "execution_count": 30,
      "outputs": [
        {
          "output_type": "stream",
          "name": "stdout",
          "text": [
            "Title: The BHAGWAT GEETA as it is, Author: Bhaktivedanta Swami Prabhupada, Year Published: 2018\n"
          ]
        }
      ]
    },
    {
      "cell_type": "markdown",
      "source": [
        "Q18.  Create a class House with attributes address and price. Create a derived class Mansion that adds an\n",
        "attribute number_of_rooms."
      ],
      "metadata": {
        "id": "nAQ7rByS_7pc"
      }
    },
    {
      "cell_type": "code",
      "source": [
        "class House:\n",
        "    def __init__(self, address, price):\n",
        "        self.address = address\n",
        "        self.price = price\n",
        "\n",
        "class Mansion(House):\n",
        "    def __init__(self, address, price, number_of_rooms):\n",
        "        super().__init__(address, price)\n",
        "        self.number_of_rooms = number_of_rooms\n",
        "\n",
        "mansion = Mansion(\"144 Malik House\", 300000, 10)\n",
        "print(mansion.address)\n",
        "print(mansion.price)\n",
        "print(mansion.number_of_rooms)\n"
      ],
      "metadata": {
        "id": "2U7kaFwPAEJn",
        "outputId": "2b66aba8-fc47-4706-8d65-2a61492b5060",
        "colab": {
          "base_uri": "https://localhost:8080/"
        }
      },
      "execution_count": 29,
      "outputs": [
        {
          "output_type": "stream",
          "name": "stdout",
          "text": [
            "144 Malik House\n",
            "300000\n",
            "10\n"
          ]
        }
      ]
    }
  ]
}